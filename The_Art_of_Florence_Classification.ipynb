{
 "cells": [
  {
   "cell_type": "markdown",
   "metadata": {},
   "source": [
    "#### From the business problem , here we have to findout what are the customers are likely to purchased the book i.e., The Art History of Florence.\n",
    "#### From the data we have, here \"Florence\" is dependent variable while rest of it is Independent variable. \n",
    "\n",
    "#### So, basically the dependent variable is in categorical form with a binary response."
   ]
  },
  {
   "cell_type": "code",
   "execution_count": 1,
   "metadata": {},
   "outputs": [],
   "source": [
    "## Loading the require libraries\n",
    "\n",
    "import pandas as pd\n",
    "import numpy as np\n",
    "import matplotlib.pyplot as plt\n",
    "%matplotlib inline"
   ]
  },
  {
   "cell_type": "code",
   "execution_count": 5,
   "metadata": {},
   "outputs": [],
   "source": [
    "## Loading the dataset.\n",
    "\n",
    "florence = pd.read_csv(\"C:/Users/SACHIN/Desktop/Classification/Classification/Classification_data.csv\")"
   ]
  },
  {
   "cell_type": "code",
   "execution_count": 6,
   "metadata": {},
   "outputs": [
    {
     "data": {
      "text/html": [
       "<div>\n",
       "<style scoped>\n",
       "    .dataframe tbody tr th:only-of-type {\n",
       "        vertical-align: middle;\n",
       "    }\n",
       "\n",
       "    .dataframe tbody tr th {\n",
       "        vertical-align: top;\n",
       "    }\n",
       "\n",
       "    .dataframe thead th {\n",
       "        text-align: right;\n",
       "    }\n",
       "</style>\n",
       "<table border=\"1\" class=\"dataframe\">\n",
       "  <thead>\n",
       "    <tr style=\"text-align: right;\">\n",
       "      <th></th>\n",
       "      <th>Seq#</th>\n",
       "      <th>ID#</th>\n",
       "      <th>Florence</th>\n",
       "      <th>Gender</th>\n",
       "      <th>M</th>\n",
       "      <th>R</th>\n",
       "      <th>F</th>\n",
       "      <th>FirstPurch</th>\n",
       "      <th>ChildBks</th>\n",
       "      <th>YouthBks</th>\n",
       "      <th>CookBks</th>\n",
       "      <th>DoItYBks</th>\n",
       "      <th>RefBks</th>\n",
       "      <th>ArtBks</th>\n",
       "      <th>GeogBks</th>\n",
       "      <th>ItalCook</th>\n",
       "      <th>ItalAtlas</th>\n",
       "      <th>ItalArt</th>\n",
       "      <th>Related Purchase</th>\n",
       "    </tr>\n",
       "  </thead>\n",
       "  <tbody>\n",
       "    <tr>\n",
       "      <th>0</th>\n",
       "      <td>1</td>\n",
       "      <td>25</td>\n",
       "      <td>0</td>\n",
       "      <td>1</td>\n",
       "      <td>297</td>\n",
       "      <td>14</td>\n",
       "      <td>2</td>\n",
       "      <td>22</td>\n",
       "      <td>0</td>\n",
       "      <td>1</td>\n",
       "      <td>1</td>\n",
       "      <td>0</td>\n",
       "      <td>0</td>\n",
       "      <td>0</td>\n",
       "      <td>0</td>\n",
       "      <td>0</td>\n",
       "      <td>0</td>\n",
       "      <td>0</td>\n",
       "      <td>0</td>\n",
       "    </tr>\n",
       "    <tr>\n",
       "      <th>1</th>\n",
       "      <td>2</td>\n",
       "      <td>29</td>\n",
       "      <td>0</td>\n",
       "      <td>0</td>\n",
       "      <td>128</td>\n",
       "      <td>8</td>\n",
       "      <td>2</td>\n",
       "      <td>10</td>\n",
       "      <td>0</td>\n",
       "      <td>0</td>\n",
       "      <td>0</td>\n",
       "      <td>0</td>\n",
       "      <td>0</td>\n",
       "      <td>0</td>\n",
       "      <td>0</td>\n",
       "      <td>0</td>\n",
       "      <td>0</td>\n",
       "      <td>0</td>\n",
       "      <td>0</td>\n",
       "    </tr>\n",
       "    <tr>\n",
       "      <th>2</th>\n",
       "      <td>3</td>\n",
       "      <td>46</td>\n",
       "      <td>0</td>\n",
       "      <td>1</td>\n",
       "      <td>138</td>\n",
       "      <td>22</td>\n",
       "      <td>7</td>\n",
       "      <td>56</td>\n",
       "      <td>2</td>\n",
       "      <td>1</td>\n",
       "      <td>2</td>\n",
       "      <td>0</td>\n",
       "      <td>1</td>\n",
       "      <td>0</td>\n",
       "      <td>1</td>\n",
       "      <td>1</td>\n",
       "      <td>0</td>\n",
       "      <td>0</td>\n",
       "      <td>2</td>\n",
       "    </tr>\n",
       "    <tr>\n",
       "      <th>3</th>\n",
       "      <td>4</td>\n",
       "      <td>47</td>\n",
       "      <td>0</td>\n",
       "      <td>1</td>\n",
       "      <td>228</td>\n",
       "      <td>2</td>\n",
       "      <td>1</td>\n",
       "      <td>2</td>\n",
       "      <td>0</td>\n",
       "      <td>0</td>\n",
       "      <td>0</td>\n",
       "      <td>0</td>\n",
       "      <td>0</td>\n",
       "      <td>0</td>\n",
       "      <td>0</td>\n",
       "      <td>0</td>\n",
       "      <td>0</td>\n",
       "      <td>0</td>\n",
       "      <td>0</td>\n",
       "    </tr>\n",
       "    <tr>\n",
       "      <th>4</th>\n",
       "      <td>5</td>\n",
       "      <td>51</td>\n",
       "      <td>0</td>\n",
       "      <td>1</td>\n",
       "      <td>257</td>\n",
       "      <td>10</td>\n",
       "      <td>1</td>\n",
       "      <td>10</td>\n",
       "      <td>0</td>\n",
       "      <td>0</td>\n",
       "      <td>0</td>\n",
       "      <td>0</td>\n",
       "      <td>0</td>\n",
       "      <td>0</td>\n",
       "      <td>0</td>\n",
       "      <td>0</td>\n",
       "      <td>0</td>\n",
       "      <td>0</td>\n",
       "      <td>0</td>\n",
       "    </tr>\n",
       "    <tr>\n",
       "      <th>5</th>\n",
       "      <td>6</td>\n",
       "      <td>60</td>\n",
       "      <td>0</td>\n",
       "      <td>1</td>\n",
       "      <td>145</td>\n",
       "      <td>6</td>\n",
       "      <td>2</td>\n",
       "      <td>12</td>\n",
       "      <td>0</td>\n",
       "      <td>0</td>\n",
       "      <td>0</td>\n",
       "      <td>0</td>\n",
       "      <td>0</td>\n",
       "      <td>0</td>\n",
       "      <td>0</td>\n",
       "      <td>0</td>\n",
       "      <td>0</td>\n",
       "      <td>0</td>\n",
       "      <td>0</td>\n",
       "    </tr>\n",
       "  </tbody>\n",
       "</table>\n",
       "</div>"
      ],
      "text/plain": [
       "   Seq#  ID#  Florence  Gender    M   R  F  FirstPurch  ChildBks  YouthBks  \\\n",
       "0     1   25         0       1  297  14  2          22         0         1   \n",
       "1     2   29         0       0  128   8  2          10         0         0   \n",
       "2     3   46         0       1  138  22  7          56         2         1   \n",
       "3     4   47         0       1  228   2  1           2         0         0   \n",
       "4     5   51         0       1  257  10  1          10         0         0   \n",
       "5     6   60         0       1  145   6  2          12         0         0   \n",
       "\n",
       "   CookBks  DoItYBks  RefBks  ArtBks  GeogBks  ItalCook  ItalAtlas  ItalArt  \\\n",
       "0        1         0       0       0        0         0          0        0   \n",
       "1        0         0       0       0        0         0          0        0   \n",
       "2        2         0       1       0        1         1          0        0   \n",
       "3        0         0       0       0        0         0          0        0   \n",
       "4        0         0       0       0        0         0          0        0   \n",
       "5        0         0       0       0        0         0          0        0   \n",
       "\n",
       "   Related Purchase  \n",
       "0                 0  \n",
       "1                 0  \n",
       "2                 2  \n",
       "3                 0  \n",
       "4                 0  \n",
       "5                 0  "
      ]
     },
     "execution_count": 6,
     "metadata": {},
     "output_type": "execute_result"
    }
   ],
   "source": [
    "## Viewing the dataset (above 6)\n",
    "\n",
    "florence.head(6)"
   ]
  },
  {
   "cell_type": "code",
   "execution_count": 7,
   "metadata": {},
   "outputs": [
    {
     "data": {
      "text/plain": [
       "(4000, 19)"
      ]
     },
     "execution_count": 7,
     "metadata": {},
     "output_type": "execute_result"
    }
   ],
   "source": [
    "## Getting the dimension of dataset\n",
    "\n",
    "florence.shape"
   ]
  },
  {
   "cell_type": "markdown",
   "metadata": {},
   "source": [
    "#### Here we have 4000 datapoints and 19 variable."
   ]
  },
  {
   "cell_type": "code",
   "execution_count": 8,
   "metadata": {},
   "outputs": [
    {
     "name": "stdout",
     "output_type": "stream",
     "text": [
      "<class 'pandas.core.frame.DataFrame'>\n",
      "RangeIndex: 4000 entries, 0 to 3999\n",
      "Data columns (total 19 columns):\n",
      "Seq#                4000 non-null int64\n",
      "ID#                 4000 non-null int64\n",
      "Florence            4000 non-null int64\n",
      "Gender              4000 non-null int64\n",
      "M                   4000 non-null int64\n",
      "R                   4000 non-null int64\n",
      "F                   4000 non-null int64\n",
      "FirstPurch          4000 non-null int64\n",
      "ChildBks            4000 non-null int64\n",
      "YouthBks            4000 non-null int64\n",
      "CookBks             4000 non-null int64\n",
      "DoItYBks            4000 non-null int64\n",
      "RefBks              4000 non-null int64\n",
      "ArtBks              4000 non-null int64\n",
      "GeogBks             4000 non-null int64\n",
      "ItalCook            4000 non-null int64\n",
      "ItalAtlas           4000 non-null int64\n",
      "ItalArt             4000 non-null int64\n",
      "Related Purchase    4000 non-null int64\n",
      "dtypes: int64(19)\n",
      "memory usage: 593.8 KB\n"
     ]
    }
   ],
   "source": [
    "## Getting the info of the dataset \n",
    "\n",
    "florence.info()"
   ]
  },
  {
   "cell_type": "code",
   "execution_count": 9,
   "metadata": {},
   "outputs": [
    {
     "data": {
      "text/plain": [
       "Seq#                0\n",
       "ID#                 0\n",
       "Florence            0\n",
       "Gender              0\n",
       "M                   0\n",
       "R                   0\n",
       "F                   0\n",
       "FirstPurch          0\n",
       "ChildBks            0\n",
       "YouthBks            0\n",
       "CookBks             0\n",
       "DoItYBks            0\n",
       "RefBks              0\n",
       "ArtBks              0\n",
       "GeogBks             0\n",
       "ItalCook            0\n",
       "ItalAtlas           0\n",
       "ItalArt             0\n",
       "Related Purchase    0\n",
       "dtype: int64"
      ]
     },
     "execution_count": 9,
     "metadata": {},
     "output_type": "execute_result"
    }
   ],
   "source": [
    "## Now, checking for any missing value \n",
    "\n",
    "florence.isnull().sum()"
   ]
  },
  {
   "cell_type": "markdown",
   "metadata": {},
   "source": [
    "#### There are no missing value in the dataset hence we can move further process."
   ]
  },
  {
   "cell_type": "code",
   "execution_count": 13,
   "metadata": {},
   "outputs": [
    {
     "data": {
      "text/plain": [
       "0    3662\n",
       "1     338\n",
       "Name: Florence, dtype: int64"
      ]
     },
     "execution_count": 13,
     "metadata": {},
     "output_type": "execute_result"
    }
   ],
   "source": [
    "## As here florence is the dependent variable we will checkout the number if counts.\n",
    "\n",
    "florence[\"Florence\"].value_counts()"
   ]
  },
  {
   "cell_type": "code",
   "execution_count": 20,
   "metadata": {},
   "outputs": [
    {
     "name": "stdout",
     "output_type": "stream",
     "text": [
      "Percentage of No: 91.55\n",
      "Percentage of Yes: 8.450000000000001\n"
     ]
    }
   ],
   "source": [
    "## Getting out the percentage of response variable.\n",
    "\n",
    "No = len(florence[florence[\"Florence\"] == 0])\n",
    "Yes = len(florence[florence[\"Florence\"] == 1])\n",
    "\n",
    "print(\"Percentage of No:\", No/(Yes+No)*100)\n",
    "print(\"Percentage of Yes:\", Yes/(No+Yes) * 100)"
   ]
  },
  {
   "cell_type": "markdown",
   "metadata": {},
   "source": [
    "#### Here No is refer as '0' and Yes is refer as '1'"
   ]
  },
  {
   "cell_type": "markdown",
   "metadata": {},
   "source": [
    "#### We can see that the \"Yes\" response has less than 10% which is too low, it is a sign of Class Imbalance Problem."
   ]
  },
  {
   "cell_type": "code",
   "execution_count": 21,
   "metadata": {},
   "outputs": [
    {
     "data": {
      "text/html": [
       "<div>\n",
       "<style scoped>\n",
       "    .dataframe tbody tr th:only-of-type {\n",
       "        vertical-align: middle;\n",
       "    }\n",
       "\n",
       "    .dataframe tbody tr th {\n",
       "        vertical-align: top;\n",
       "    }\n",
       "\n",
       "    .dataframe thead th {\n",
       "        text-align: right;\n",
       "    }\n",
       "</style>\n",
       "<table border=\"1\" class=\"dataframe\">\n",
       "  <thead>\n",
       "    <tr style=\"text-align: right;\">\n",
       "      <th></th>\n",
       "      <th>Seq#</th>\n",
       "      <th>ID#</th>\n",
       "      <th>Florence</th>\n",
       "      <th>Gender</th>\n",
       "      <th>M</th>\n",
       "      <th>R</th>\n",
       "      <th>F</th>\n",
       "      <th>FirstPurch</th>\n",
       "      <th>ChildBks</th>\n",
       "      <th>YouthBks</th>\n",
       "      <th>CookBks</th>\n",
       "      <th>DoItYBks</th>\n",
       "      <th>RefBks</th>\n",
       "      <th>ArtBks</th>\n",
       "      <th>GeogBks</th>\n",
       "      <th>ItalCook</th>\n",
       "      <th>ItalAtlas</th>\n",
       "      <th>ItalArt</th>\n",
       "      <th>Related Purchase</th>\n",
       "    </tr>\n",
       "  </thead>\n",
       "  <tbody>\n",
       "    <tr>\n",
       "      <th>count</th>\n",
       "      <td>4000.000000</td>\n",
       "      <td>4000.000000</td>\n",
       "      <td>4000.000000</td>\n",
       "      <td>4000.000000</td>\n",
       "      <td>4000.000000</td>\n",
       "      <td>4000.000000</td>\n",
       "      <td>4000.000000</td>\n",
       "      <td>4000.00000</td>\n",
       "      <td>4000.000000</td>\n",
       "      <td>4000.00000</td>\n",
       "      <td>4000.000000</td>\n",
       "      <td>4000.000000</td>\n",
       "      <td>4000.000000</td>\n",
       "      <td>4000.00000</td>\n",
       "      <td>4000.000000</td>\n",
       "      <td>4000.000000</td>\n",
       "      <td>4000.000000</td>\n",
       "      <td>4000.000000</td>\n",
       "      <td>4000.000000</td>\n",
       "    </tr>\n",
       "    <tr>\n",
       "      <th>mean</th>\n",
       "      <td>2000.500000</td>\n",
       "      <td>16594.623000</td>\n",
       "      <td>0.084500</td>\n",
       "      <td>0.704500</td>\n",
       "      <td>208.091500</td>\n",
       "      <td>13.390500</td>\n",
       "      <td>3.833250</td>\n",
       "      <td>26.50725</td>\n",
       "      <td>0.639750</td>\n",
       "      <td>0.30475</td>\n",
       "      <td>0.731250</td>\n",
       "      <td>0.350750</td>\n",
       "      <td>0.256250</td>\n",
       "      <td>0.28900</td>\n",
       "      <td>0.387500</td>\n",
       "      <td>0.125250</td>\n",
       "      <td>0.037500</td>\n",
       "      <td>0.045750</td>\n",
       "      <td>0.885000</td>\n",
       "    </tr>\n",
       "    <tr>\n",
       "      <th>std</th>\n",
       "      <td>1154.844867</td>\n",
       "      <td>9484.433792</td>\n",
       "      <td>0.278171</td>\n",
       "      <td>0.456324</td>\n",
       "      <td>100.948548</td>\n",
       "      <td>8.103822</td>\n",
       "      <td>3.458386</td>\n",
       "      <td>18.35138</td>\n",
       "      <td>0.994343</td>\n",
       "      <td>0.61194</td>\n",
       "      <td>1.089413</td>\n",
       "      <td>0.687999</td>\n",
       "      <td>0.558269</td>\n",
       "      <td>0.60089</td>\n",
       "      <td>0.750656</td>\n",
       "      <td>0.385486</td>\n",
       "      <td>0.214721</td>\n",
       "      <td>0.220611</td>\n",
       "      <td>1.226234</td>\n",
       "    </tr>\n",
       "    <tr>\n",
       "      <th>min</th>\n",
       "      <td>1.000000</td>\n",
       "      <td>25.000000</td>\n",
       "      <td>0.000000</td>\n",
       "      <td>0.000000</td>\n",
       "      <td>15.000000</td>\n",
       "      <td>2.000000</td>\n",
       "      <td>1.000000</td>\n",
       "      <td>2.00000</td>\n",
       "      <td>0.000000</td>\n",
       "      <td>0.00000</td>\n",
       "      <td>0.000000</td>\n",
       "      <td>0.000000</td>\n",
       "      <td>0.000000</td>\n",
       "      <td>0.00000</td>\n",
       "      <td>0.000000</td>\n",
       "      <td>0.000000</td>\n",
       "      <td>0.000000</td>\n",
       "      <td>0.000000</td>\n",
       "      <td>0.000000</td>\n",
       "    </tr>\n",
       "    <tr>\n",
       "      <th>25%</th>\n",
       "      <td>1000.750000</td>\n",
       "      <td>8253.250000</td>\n",
       "      <td>0.000000</td>\n",
       "      <td>0.000000</td>\n",
       "      <td>129.000000</td>\n",
       "      <td>8.000000</td>\n",
       "      <td>1.000000</td>\n",
       "      <td>12.00000</td>\n",
       "      <td>0.000000</td>\n",
       "      <td>0.00000</td>\n",
       "      <td>0.000000</td>\n",
       "      <td>0.000000</td>\n",
       "      <td>0.000000</td>\n",
       "      <td>0.00000</td>\n",
       "      <td>0.000000</td>\n",
       "      <td>0.000000</td>\n",
       "      <td>0.000000</td>\n",
       "      <td>0.000000</td>\n",
       "      <td>0.000000</td>\n",
       "    </tr>\n",
       "    <tr>\n",
       "      <th>50%</th>\n",
       "      <td>2000.500000</td>\n",
       "      <td>16581.000000</td>\n",
       "      <td>0.000000</td>\n",
       "      <td>1.000000</td>\n",
       "      <td>208.000000</td>\n",
       "      <td>12.000000</td>\n",
       "      <td>2.000000</td>\n",
       "      <td>20.00000</td>\n",
       "      <td>0.000000</td>\n",
       "      <td>0.00000</td>\n",
       "      <td>0.000000</td>\n",
       "      <td>0.000000</td>\n",
       "      <td>0.000000</td>\n",
       "      <td>0.00000</td>\n",
       "      <td>0.000000</td>\n",
       "      <td>0.000000</td>\n",
       "      <td>0.000000</td>\n",
       "      <td>0.000000</td>\n",
       "      <td>0.000000</td>\n",
       "    </tr>\n",
       "    <tr>\n",
       "      <th>75%</th>\n",
       "      <td>3000.250000</td>\n",
       "      <td>24838.250000</td>\n",
       "      <td>0.000000</td>\n",
       "      <td>1.000000</td>\n",
       "      <td>283.000000</td>\n",
       "      <td>16.000000</td>\n",
       "      <td>6.000000</td>\n",
       "      <td>36.00000</td>\n",
       "      <td>1.000000</td>\n",
       "      <td>0.00000</td>\n",
       "      <td>1.000000</td>\n",
       "      <td>1.000000</td>\n",
       "      <td>0.000000</td>\n",
       "      <td>0.00000</td>\n",
       "      <td>1.000000</td>\n",
       "      <td>0.000000</td>\n",
       "      <td>0.000000</td>\n",
       "      <td>0.000000</td>\n",
       "      <td>1.000000</td>\n",
       "    </tr>\n",
       "    <tr>\n",
       "      <th>max</th>\n",
       "      <td>4000.000000</td>\n",
       "      <td>32977.000000</td>\n",
       "      <td>1.000000</td>\n",
       "      <td>1.000000</td>\n",
       "      <td>479.000000</td>\n",
       "      <td>36.000000</td>\n",
       "      <td>12.000000</td>\n",
       "      <td>99.00000</td>\n",
       "      <td>7.000000</td>\n",
       "      <td>5.00000</td>\n",
       "      <td>7.000000</td>\n",
       "      <td>5.000000</td>\n",
       "      <td>4.000000</td>\n",
       "      <td>5.00000</td>\n",
       "      <td>6.000000</td>\n",
       "      <td>3.000000</td>\n",
       "      <td>2.000000</td>\n",
       "      <td>2.000000</td>\n",
       "      <td>8.000000</td>\n",
       "    </tr>\n",
       "  </tbody>\n",
       "</table>\n",
       "</div>"
      ],
      "text/plain": [
       "              Seq#           ID#     Florence       Gender            M  \\\n",
       "count  4000.000000   4000.000000  4000.000000  4000.000000  4000.000000   \n",
       "mean   2000.500000  16594.623000     0.084500     0.704500   208.091500   \n",
       "std    1154.844867   9484.433792     0.278171     0.456324   100.948548   \n",
       "min       1.000000     25.000000     0.000000     0.000000    15.000000   \n",
       "25%    1000.750000   8253.250000     0.000000     0.000000   129.000000   \n",
       "50%    2000.500000  16581.000000     0.000000     1.000000   208.000000   \n",
       "75%    3000.250000  24838.250000     0.000000     1.000000   283.000000   \n",
       "max    4000.000000  32977.000000     1.000000     1.000000   479.000000   \n",
       "\n",
       "                 R            F  FirstPurch     ChildBks    YouthBks  \\\n",
       "count  4000.000000  4000.000000  4000.00000  4000.000000  4000.00000   \n",
       "mean     13.390500     3.833250    26.50725     0.639750     0.30475   \n",
       "std       8.103822     3.458386    18.35138     0.994343     0.61194   \n",
       "min       2.000000     1.000000     2.00000     0.000000     0.00000   \n",
       "25%       8.000000     1.000000    12.00000     0.000000     0.00000   \n",
       "50%      12.000000     2.000000    20.00000     0.000000     0.00000   \n",
       "75%      16.000000     6.000000    36.00000     1.000000     0.00000   \n",
       "max      36.000000    12.000000    99.00000     7.000000     5.00000   \n",
       "\n",
       "           CookBks     DoItYBks       RefBks      ArtBks      GeogBks  \\\n",
       "count  4000.000000  4000.000000  4000.000000  4000.00000  4000.000000   \n",
       "mean      0.731250     0.350750     0.256250     0.28900     0.387500   \n",
       "std       1.089413     0.687999     0.558269     0.60089     0.750656   \n",
       "min       0.000000     0.000000     0.000000     0.00000     0.000000   \n",
       "25%       0.000000     0.000000     0.000000     0.00000     0.000000   \n",
       "50%       0.000000     0.000000     0.000000     0.00000     0.000000   \n",
       "75%       1.000000     1.000000     0.000000     0.00000     1.000000   \n",
       "max       7.000000     5.000000     4.000000     5.00000     6.000000   \n",
       "\n",
       "          ItalCook    ItalAtlas      ItalArt  Related Purchase  \n",
       "count  4000.000000  4000.000000  4000.000000       4000.000000  \n",
       "mean      0.125250     0.037500     0.045750          0.885000  \n",
       "std       0.385486     0.214721     0.220611          1.226234  \n",
       "min       0.000000     0.000000     0.000000          0.000000  \n",
       "25%       0.000000     0.000000     0.000000          0.000000  \n",
       "50%       0.000000     0.000000     0.000000          0.000000  \n",
       "75%       0.000000     0.000000     0.000000          1.000000  \n",
       "max       3.000000     2.000000     2.000000          8.000000  "
      ]
     },
     "execution_count": 21,
     "metadata": {},
     "output_type": "execute_result"
    }
   ],
   "source": [
    "## Getting the basic statistics\n",
    "\n",
    "florence.describe()"
   ]
  },
  {
   "cell_type": "code",
   "execution_count": 25,
   "metadata": {},
   "outputs": [
    {
     "data": {
      "text/html": [
       "<div>\n",
       "<style scoped>\n",
       "    .dataframe tbody tr th:only-of-type {\n",
       "        vertical-align: middle;\n",
       "    }\n",
       "\n",
       "    .dataframe tbody tr th {\n",
       "        vertical-align: top;\n",
       "    }\n",
       "\n",
       "    .dataframe thead th {\n",
       "        text-align: right;\n",
       "    }\n",
       "</style>\n",
       "<table border=\"1\" class=\"dataframe\">\n",
       "  <thead>\n",
       "    <tr style=\"text-align: right;\">\n",
       "      <th></th>\n",
       "      <th>Florence</th>\n",
       "      <th>Gender</th>\n",
       "      <th>M</th>\n",
       "      <th>R</th>\n",
       "      <th>F</th>\n",
       "      <th>FirstPurch</th>\n",
       "      <th>ChildBks</th>\n",
       "      <th>YouthBks</th>\n",
       "      <th>CookBks</th>\n",
       "      <th>DoItYBks</th>\n",
       "      <th>RefBks</th>\n",
       "      <th>ArtBks</th>\n",
       "      <th>GeogBks</th>\n",
       "      <th>ItalCook</th>\n",
       "      <th>ItalAtlas</th>\n",
       "      <th>ItalArt</th>\n",
       "      <th>Related Purchase</th>\n",
       "    </tr>\n",
       "  </thead>\n",
       "  <tbody>\n",
       "    <tr>\n",
       "      <th>0</th>\n",
       "      <td>0</td>\n",
       "      <td>1</td>\n",
       "      <td>297</td>\n",
       "      <td>14</td>\n",
       "      <td>2</td>\n",
       "      <td>22</td>\n",
       "      <td>0</td>\n",
       "      <td>1</td>\n",
       "      <td>1</td>\n",
       "      <td>0</td>\n",
       "      <td>0</td>\n",
       "      <td>0</td>\n",
       "      <td>0</td>\n",
       "      <td>0</td>\n",
       "      <td>0</td>\n",
       "      <td>0</td>\n",
       "      <td>0</td>\n",
       "    </tr>\n",
       "    <tr>\n",
       "      <th>1</th>\n",
       "      <td>0</td>\n",
       "      <td>0</td>\n",
       "      <td>128</td>\n",
       "      <td>8</td>\n",
       "      <td>2</td>\n",
       "      <td>10</td>\n",
       "      <td>0</td>\n",
       "      <td>0</td>\n",
       "      <td>0</td>\n",
       "      <td>0</td>\n",
       "      <td>0</td>\n",
       "      <td>0</td>\n",
       "      <td>0</td>\n",
       "      <td>0</td>\n",
       "      <td>0</td>\n",
       "      <td>0</td>\n",
       "      <td>0</td>\n",
       "    </tr>\n",
       "    <tr>\n",
       "      <th>2</th>\n",
       "      <td>0</td>\n",
       "      <td>1</td>\n",
       "      <td>138</td>\n",
       "      <td>22</td>\n",
       "      <td>7</td>\n",
       "      <td>56</td>\n",
       "      <td>2</td>\n",
       "      <td>1</td>\n",
       "      <td>2</td>\n",
       "      <td>0</td>\n",
       "      <td>1</td>\n",
       "      <td>0</td>\n",
       "      <td>1</td>\n",
       "      <td>1</td>\n",
       "      <td>0</td>\n",
       "      <td>0</td>\n",
       "      <td>2</td>\n",
       "    </tr>\n",
       "    <tr>\n",
       "      <th>3</th>\n",
       "      <td>0</td>\n",
       "      <td>1</td>\n",
       "      <td>228</td>\n",
       "      <td>2</td>\n",
       "      <td>1</td>\n",
       "      <td>2</td>\n",
       "      <td>0</td>\n",
       "      <td>0</td>\n",
       "      <td>0</td>\n",
       "      <td>0</td>\n",
       "      <td>0</td>\n",
       "      <td>0</td>\n",
       "      <td>0</td>\n",
       "      <td>0</td>\n",
       "      <td>0</td>\n",
       "      <td>0</td>\n",
       "      <td>0</td>\n",
       "    </tr>\n",
       "    <tr>\n",
       "      <th>4</th>\n",
       "      <td>0</td>\n",
       "      <td>1</td>\n",
       "      <td>257</td>\n",
       "      <td>10</td>\n",
       "      <td>1</td>\n",
       "      <td>10</td>\n",
       "      <td>0</td>\n",
       "      <td>0</td>\n",
       "      <td>0</td>\n",
       "      <td>0</td>\n",
       "      <td>0</td>\n",
       "      <td>0</td>\n",
       "      <td>0</td>\n",
       "      <td>0</td>\n",
       "      <td>0</td>\n",
       "      <td>0</td>\n",
       "      <td>0</td>\n",
       "    </tr>\n",
       "  </tbody>\n",
       "</table>\n",
       "</div>"
      ],
      "text/plain": [
       "   Florence  Gender    M   R  F  FirstPurch  ChildBks  YouthBks  CookBks  \\\n",
       "0         0       1  297  14  2          22         0         1        1   \n",
       "1         0       0  128   8  2          10         0         0        0   \n",
       "2         0       1  138  22  7          56         2         1        2   \n",
       "3         0       1  228   2  1           2         0         0        0   \n",
       "4         0       1  257  10  1          10         0         0        0   \n",
       "\n",
       "   DoItYBks  RefBks  ArtBks  GeogBks  ItalCook  ItalAtlas  ItalArt  \\\n",
       "0         0       0       0        0         0          0        0   \n",
       "1         0       0       0        0         0          0        0   \n",
       "2         0       1       0        1         1          0        0   \n",
       "3         0       0       0        0         0          0        0   \n",
       "4         0       0       0        0         0          0        0   \n",
       "\n",
       "   Related Purchase  \n",
       "0                 0  \n",
       "1                 0  \n",
       "2                 2  \n",
       "3                 0  \n",
       "4                 0  "
      ]
     },
     "execution_count": 25,
     "metadata": {},
     "output_type": "execute_result"
    }
   ],
   "source": [
    "## From the data, \"Seq#\" and ID# are constant so dropping it.\n",
    "\n",
    "florence_new = florence.drop([\"Seq#\", \"ID#\"], axis = 1)\n",
    "florence_new.head()"
   ]
  },
  {
   "cell_type": "code",
   "execution_count": 31,
   "metadata": {},
   "outputs": [
    {
     "data": {
      "text/plain": [
       "<matplotlib.axes._subplots.AxesSubplot at 0x20edcf0add8>"
      ]
     },
     "execution_count": 31,
     "metadata": {},
     "output_type": "execute_result"
    },
    {
     "data": {
      "image/png": "[encoded data removed]",
      "text/plain": [
       "<Figure size 936x720 with 2 Axes>"
      ]
     },
     "metadata": {
      "needs_background": "light"
     },
     "output_type": "display_data"
    }
   ],
   "source": [
    "## Lets find out the correlation between the variable \n",
    "\n",
    "## Loading the require libraries\n",
    "import seaborn as sns\n",
    "\n",
    "plt.figure(figsize = (13,10))\n",
    "sns.heatmap(florence_new.corr(), annot = True, linewidths = 0.01)\n"
   ]
  },
  {
   "cell_type": "markdown",
   "metadata": {},
   "source": [
    "#### Since there are two to three variable which are highly correlated to each other."
   ]
  },
  {
   "cell_type": "code",
   "execution_count": 91,
   "metadata": {},
   "outputs": [],
   "source": [
    "## Dividing the data into training and test for model building \n",
    "\n",
    "X = florence_new.drop(columns = [\"Florence\"], axis = 1)\n",
    "Y = florence_new[\"Florence\"]"
   ]
  },
  {
   "cell_type": "code",
   "execution_count": 92,
   "metadata": {},
   "outputs": [
    {
     "name": "stdout",
     "output_type": "stream",
     "text": [
      "X_train: (2800,)\n",
      "X_test: (1200, 16)\n",
      "Y_train: (2800,)\n",
      "Y_test: (1200,)\n"
     ]
    }
   ],
   "source": [
    "## Importing the require libraries for training and testing\n",
    "\n",
    "from sklearn.model_selection import train_test_split\n",
    "X_train, X_test, Y_train, Y_test = train_test_split(X, Y, train_size = 0.7, test_size = 0.3, random_state = 42)\n",
    "\n",
    "print(\"X_train:\", Y_train.shape)\n",
    "print(\"X_test:\", X_test.shape)\n",
    "print(\"Y_train:\", Y_train.shape)\n",
    "print(\"Y_test:\", Y_test.shape)\n"
   ]
  },
  {
   "cell_type": "markdown",
   "metadata": {},
   "source": [
    "#### Training data has 2800 datapoint and Testing data has 1200."
   ]
  },
  {
   "cell_type": "code",
   "execution_count": 93,
   "metadata": {},
   "outputs": [],
   "source": [
    "## Building the model for Logistic Regression\n",
    "\n",
    "## Getting the required libraries\n",
    "from sklearn.linear_model import LogisticRegression\n",
    "import statsmodels.api as sm"
   ]
  },
  {
   "cell_type": "code",
   "execution_count": 94,
   "metadata": {},
   "outputs": [
    {
     "name": "stderr",
     "output_type": "stream",
     "text": [
      "C:\\Users\\SACHIN\\Anaconda3\\lib\\site-packages\\sklearn\\linear_model\\logistic.py:433: FutureWarning: Default solver will be changed to 'lbfgs' in 0.22. Specify a solver to silence this warning.\n",
      "  FutureWarning)\n"
     ]
    },
    {
     "data": {
      "text/plain": [
       "LogisticRegression(C=1.0, class_weight=None, dual=False, fit_intercept=True,\n",
       "          intercept_scaling=1, max_iter=100, multi_class='warn',\n",
       "          n_jobs=None, penalty='l2', random_state=None, solver='warn',\n",
       "          tol=0.0001, verbose=0, warm_start=False)"
      ]
     },
     "execution_count": 94,
     "metadata": {},
     "output_type": "execute_result"
    }
   ],
   "source": [
    "le = LogisticRegression()\n",
    "model = le.fit(X_train, Y_train)\n",
    "model"
   ]
  },
  {
   "cell_type": "code",
   "execution_count": 95,
   "metadata": {},
   "outputs": [
    {
     "data": {
      "text/html": [
       "<table class=\"simpletable\">\n",
       "<caption>Generalized Linear Model Regression Results</caption>\n",
       "<tr>\n",
       "  <th>Dep. Variable:</th>      <td>Florence</td>     <th>  No. Observations:  </th>  <td>  2800</td>  \n",
       "</tr>\n",
       "<tr>\n",
       "  <th>Model:</th>                 <td>GLM</td>       <th>  Df Residuals:      </th>  <td>  2784</td>  \n",
       "</tr>\n",
       "<tr>\n",
       "  <th>Model Family:</th>       <td>Binomial</td>     <th>  Df Model:          </th>  <td>    15</td>  \n",
       "</tr>\n",
       "<tr>\n",
       "  <th>Link Function:</th>        <td>logit</td>      <th>  Scale:             </th> <td>  1.0000</td> \n",
       "</tr>\n",
       "<tr>\n",
       "  <th>Method:</th>               <td>IRLS</td>       <th>  Log-Likelihood:    </th> <td> -759.86</td> \n",
       "</tr>\n",
       "<tr>\n",
       "  <th>Date:</th>           <td>Thu, 14 Feb 2019</td> <th>  Deviance:          </th> <td>  1519.7</td> \n",
       "</tr>\n",
       "<tr>\n",
       "  <th>Time:</th>               <td>13:58:56</td>     <th>  Pearson chi2:      </th> <td>2.89e+03</td> \n",
       "</tr>\n",
       "<tr>\n",
       "  <th>No. Iterations:</th>         <td>6</td>        <th>  Covariance Type:   </th> <td>nonrobust</td>\n",
       "</tr>\n",
       "</table>\n",
       "<table class=\"simpletable\">\n",
       "<tr>\n",
       "          <td></td>            <th>coef</th>     <th>std err</th>      <th>z</th>      <th>P>|z|</th>  <th>[0.025</th>    <th>0.975]</th>  \n",
       "</tr>\n",
       "<tr>\n",
       "  <th>const</th>            <td>   -2.2228</td> <td>    0.237</td> <td>   -9.368</td> <td> 0.000</td> <td>   -2.688</td> <td>   -1.758</td>\n",
       "</tr>\n",
       "<tr>\n",
       "  <th>Gender</th>           <td>   -0.5122</td> <td>    0.144</td> <td>   -3.566</td> <td> 0.000</td> <td>   -0.794</td> <td>   -0.231</td>\n",
       "</tr>\n",
       "<tr>\n",
       "  <th>M</th>                <td>   -0.0011</td> <td>    0.001</td> <td>   -1.372</td> <td> 0.170</td> <td>   -0.003</td> <td>    0.000</td>\n",
       "</tr>\n",
       "<tr>\n",
       "  <th>R</th>                <td>   -0.0151</td> <td>    0.014</td> <td>   -1.056</td> <td> 0.291</td> <td>   -0.043</td> <td>    0.013</td>\n",
       "</tr>\n",
       "<tr>\n",
       "  <th>F</th>                <td>    0.2549</td> <td>    0.062</td> <td>    4.100</td> <td> 0.000</td> <td>    0.133</td> <td>    0.377</td>\n",
       "</tr>\n",
       "<tr>\n",
       "  <th>FirstPurch</th>       <td>    0.0011</td> <td>    0.010</td> <td>    0.107</td> <td> 0.915</td> <td>   -0.019</td> <td>    0.022</td>\n",
       "</tr>\n",
       "<tr>\n",
       "  <th>ChildBks</th>         <td>   -0.2822</td> <td>    0.100</td> <td>   -2.810</td> <td> 0.005</td> <td>   -0.479</td> <td>   -0.085</td>\n",
       "</tr>\n",
       "<tr>\n",
       "  <th>YouthBks</th>         <td>   -0.1595</td> <td>    0.139</td> <td>   -1.152</td> <td> 0.249</td> <td>   -0.431</td> <td>    0.112</td>\n",
       "</tr>\n",
       "<tr>\n",
       "  <th>CookBks</th>          <td>   -0.4471</td> <td>    0.103</td> <td>   -4.347</td> <td> 0.000</td> <td>   -0.649</td> <td>   -0.245</td>\n",
       "</tr>\n",
       "<tr>\n",
       "  <th>DoItYBks</th>         <td>   -0.4417</td> <td>    0.135</td> <td>   -3.276</td> <td> 0.001</td> <td>   -0.706</td> <td>   -0.177</td>\n",
       "</tr>\n",
       "<tr>\n",
       "  <th>RefBks</th>           <td>   -0.0543</td> <td>    0.139</td> <td>   -0.390</td> <td> 0.696</td> <td>   -0.327</td> <td>    0.218</td>\n",
       "</tr>\n",
       "<tr>\n",
       "  <th>ArtBks</th>           <td>    0.2760</td> <td>    0.108</td> <td>    2.554</td> <td> 0.011</td> <td>    0.064</td> <td>    0.488</td>\n",
       "</tr>\n",
       "<tr>\n",
       "  <th>GeogBks</th>          <td>    0.0186</td> <td>    0.098</td> <td>    0.189</td> <td> 0.850</td> <td>   -0.174</td> <td>    0.212</td>\n",
       "</tr>\n",
       "<tr>\n",
       "  <th>ItalCook</th>         <td>   -0.1502</td> <td>    0.177</td> <td>   -0.848</td> <td> 0.396</td> <td>   -0.497</td> <td>    0.197</td>\n",
       "</tr>\n",
       "<tr>\n",
       "  <th>ItalAtlas</th>        <td>   -0.2995</td> <td>    0.286</td> <td>   -1.049</td> <td> 0.294</td> <td>   -0.859</td> <td>    0.260</td>\n",
       "</tr>\n",
       "<tr>\n",
       "  <th>ItalArt</th>          <td>    0.2920</td> <td>    0.243</td> <td>    1.202</td> <td> 0.229</td> <td>   -0.184</td> <td>    0.768</td>\n",
       "</tr>\n",
       "<tr>\n",
       "  <th>Related Purchase</th> <td>    0.1370</td> <td>    0.069</td> <td>    1.999</td> <td> 0.046</td> <td>    0.003</td> <td>    0.271</td>\n",
       "</tr>\n",
       "</table>"
      ],
      "text/plain": [
       "<class 'statsmodels.iolib.summary.Summary'>\n",
       "\"\"\"\n",
       "                 Generalized Linear Model Regression Results                  \n",
       "==============================================================================\n",
       "Dep. Variable:               Florence   No. Observations:                 2800\n",
       "Model:                            GLM   Df Residuals:                     2784\n",
       "Model Family:                Binomial   Df Model:                           15\n",
       "Link Function:                  logit   Scale:                          1.0000\n",
       "Method:                          IRLS   Log-Likelihood:                -759.86\n",
       "Date:                Thu, 14 Feb 2019   Deviance:                       1519.7\n",
       "Time:                        13:58:56   Pearson chi2:                 2.89e+03\n",
       "No. Iterations:                     6   Covariance Type:             nonrobust\n",
       "====================================================================================\n",
       "                       coef    std err          z      P>|z|      [0.025      0.975]\n",
       "------------------------------------------------------------------------------------\n",
       "const               -2.2228      0.237     -9.368      0.000      -2.688      -1.758\n",
       "Gender              -0.5122      0.144     -3.566      0.000      -0.794      -0.231\n",
       "M                   -0.0011      0.001     -1.372      0.170      -0.003       0.000\n",
       "R                   -0.0151      0.014     -1.056      0.291      -0.043       0.013\n",
       "F                    0.2549      0.062      4.100      0.000       0.133       0.377\n",
       "FirstPurch           0.0011      0.010      0.107      0.915      -0.019       0.022\n",
       "ChildBks            -0.2822      0.100     -2.810      0.005      -0.479      -0.085\n",
       "YouthBks            -0.1595      0.139     -1.152      0.249      -0.431       0.112\n",
       "CookBks             -0.4471      0.103     -4.347      0.000      -0.649      -0.245\n",
       "DoItYBks            -0.4417      0.135     -3.276      0.001      -0.706      -0.177\n",
       "RefBks              -0.0543      0.139     -0.390      0.696      -0.327       0.218\n",
       "ArtBks               0.2760      0.108      2.554      0.011       0.064       0.488\n",
       "GeogBks              0.0186      0.098      0.189      0.850      -0.174       0.212\n",
       "ItalCook            -0.1502      0.177     -0.848      0.396      -0.497       0.197\n",
       "ItalAtlas           -0.2995      0.286     -1.049      0.294      -0.859       0.260\n",
       "ItalArt              0.2920      0.243      1.202      0.229      -0.184       0.768\n",
       "Related Purchase     0.1370      0.069      1.999      0.046       0.003       0.271\n",
       "====================================================================================\n",
       "\"\"\""
      ]
     },
     "execution_count": 95,
     "metadata": {},
     "output_type": "execute_result"
    }
   ],
   "source": [
    "## Building the model\n",
    "\n",
    "model_stat = sm.GLM(Y_train, sm.add_constant(X_train), family = sm.families.Binomial())\n",
    "result = model_stat.fit().summary()\n",
    "result"
   ]
  },
  {
   "cell_type": "code",
   "execution_count": 96,
   "metadata": {},
   "outputs": [],
   "source": [
    "## Prediction\n",
    "\n",
    "result_predict = model.predict(X_test)"
   ]
  },
  {
   "cell_type": "code",
   "execution_count": 97,
   "metadata": {},
   "outputs": [],
   "source": [
    "## Finding out the Accuracy, Confusion Matrix, ROC Curve\n",
    "\n",
    "from sklearn.metrics import accuracy_score, classification_report, auc, confusion_matrix"
   ]
  },
  {
   "cell_type": "code",
   "execution_count": 98,
   "metadata": {},
   "outputs": [
    {
     "data": {
      "text/plain": [
       "array([[1100,   99],\n",
       "       [   0,    1]], dtype=int64)"
      ]
     },
     "execution_count": 98,
     "metadata": {},
     "output_type": "execute_result"
    }
   ],
   "source": [
    "## Confusion Matrix\n",
    "\n",
    "confusion_matrix(result_predict, Y_test)"
   ]
  },
  {
   "cell_type": "code",
   "execution_count": 99,
   "metadata": {},
   "outputs": [
    {
     "data": {
      "text/plain": [
       "0.9175"
      ]
     },
     "execution_count": 99,
     "metadata": {},
     "output_type": "execute_result"
    }
   ],
   "source": [
    "accuracy_score(result_predict, Y_test)"
   ]
  },
  {
   "cell_type": "code",
   "execution_count": 100,
   "metadata": {},
   "outputs": [
    {
     "data": {
      "text/plain": [
       "0.9587155963302753"
      ]
     },
     "execution_count": 100,
     "metadata": {},
     "output_type": "execute_result"
    }
   ],
   "source": [
    "## Area under Curve\n",
    "\n",
    "from sklearn.metrics import roc_auc_score\n",
    "\n",
    "roc_auc_score(result_predict, Y_test)"
   ]
  },
  {
   "cell_type": "code",
   "execution_count": 102,
   "metadata": {},
   "outputs": [
    {
     "data": {
      "text/plain": [
       "array([[2562,  233],\n",
       "       [   0,    5]], dtype=int64)"
      ]
     },
     "execution_count": 102,
     "metadata": {},
     "output_type": "execute_result"
    }
   ],
   "source": [
    "## Checking Accuracy for training data\n",
    "\n",
    "result_predict_train = model.predict(X_train)\n",
    "confusion_matrix(result_predict_train, Y_train)"
   ]
  },
  {
   "cell_type": "code",
   "execution_count": 104,
   "metadata": {},
   "outputs": [
    {
     "data": {
      "text/plain": [
       "0.9167857142857143"
      ]
     },
     "execution_count": 104,
     "metadata": {},
     "output_type": "execute_result"
    }
   ],
   "source": [
    "## Accuracy\n",
    "\n",
    "accuracy_score(result_predict_train, Y_train)"
   ]
  },
  {
   "cell_type": "markdown",
   "metadata": {},
   "source": [
    "#### As we can see that the Accuracy score of both the testing and training is almost near to it, we can say that our model is not overfitting."
   ]
  },
  {
   "cell_type": "code",
   "execution_count": 110,
   "metadata": {},
   "outputs": [
    {
     "name": "stderr",
     "output_type": "stream",
     "text": [
      "C:\\Users\\SACHIN\\Anaconda3\\lib\\site-packages\\sklearn\\ensemble\\forest.py:246: FutureWarning: The default value of n_estimators will change from 10 in version 0.20 to 100 in 0.22.\n",
      "  \"10 in version 0.20 to 100 in 0.22.\", FutureWarning)\n"
     ]
    },
    {
     "data": {
      "text/plain": [
       "RandomForestClassifier(bootstrap=True, class_weight=None, criterion='gini',\n",
       "            max_depth=None, max_features='auto', max_leaf_nodes=None,\n",
       "            min_impurity_decrease=0.0, min_impurity_split=None,\n",
       "            min_samples_leaf=1, min_samples_split=2,\n",
       "            min_weight_fraction_leaf=0.0, n_estimators=10, n_jobs=None,\n",
       "            oob_score=False, random_state=None, verbose=0,\n",
       "            warm_start=False)"
      ]
     },
     "execution_count": 110,
     "metadata": {},
     "output_type": "execute_result"
    }
   ],
   "source": [
    "## Building the Support Vector Machine models\n",
    "\n",
    "## Getting the require libraries\n",
    "\n",
    "from sklearn.ensemble import RandomForestClassifier\n",
    "\n",
    "random = RandomForestClassifier()\n",
    "model_random = random.fit(X_train, Y_train)\n",
    "model_random"
   ]
  },
  {
   "cell_type": "code",
   "execution_count": 111,
   "metadata": {},
   "outputs": [],
   "source": [
    "## Prediction\n",
    "\n",
    "random_predict = model_random.predict(X_test)"
   ]
  },
  {
   "cell_type": "code",
   "execution_count": 113,
   "metadata": {},
   "outputs": [
    {
     "data": {
      "text/plain": [
       "array([[1080,   97],\n",
       "       [  20,    3]], dtype=int64)"
      ]
     },
     "execution_count": 113,
     "metadata": {},
     "output_type": "execute_result"
    }
   ],
   "source": [
    "## Confusion Matrix\n",
    "\n",
    "confusion_matrix(random_predict, Y_test)"
   ]
  },
  {
   "cell_type": "code",
   "execution_count": 114,
   "metadata": {},
   "outputs": [
    {
     "data": {
      "text/plain": [
       "0.9025"
      ]
     },
     "execution_count": 114,
     "metadata": {},
     "output_type": "execute_result"
    }
   ],
   "source": [
    "## Accuracy Score\n",
    "\n",
    "accuracy_score(random_predict, Y_test)"
   ]
  },
  {
   "cell_type": "code",
   "execution_count": 115,
   "metadata": {},
   "outputs": [
    {
     "data": {
      "text/plain": [
       "0.5240109342100402"
      ]
     },
     "execution_count": 115,
     "metadata": {},
     "output_type": "execute_result"
    }
   ],
   "source": [
    "## AUC value\n",
    "\n",
    "roc_auc_score(random_predict, Y_test)"
   ]
  },
  {
   "cell_type": "code",
   "execution_count": 118,
   "metadata": {},
   "outputs": [
    {
     "data": {
      "text/plain": [
       "0.9842857142857143"
      ]
     },
     "execution_count": 118,
     "metadata": {},
     "output_type": "execute_result"
    }
   ],
   "source": [
    "## For training data\n",
    "\n",
    "predict_random_train = model_random.predict(X_train)\n",
    "\n",
    "## Accuracy\n",
    "accuracy_score(predict_random_train, Y_train)"
   ]
  },
  {
   "cell_type": "markdown",
   "metadata": {},
   "source": [
    "#### We can see that the data is training data and testing data value are too differ this is a sign of Overfitting in the model.\n",
    "#### We can avoide this by tuning the hyperparameter or by finding out the best parameters.\n"
   ]
  },
  {
   "cell_type": "markdown",
   "metadata": {},
   "source": [
    "##### From the above two models, Logistic Regression perform much better than Random Forest Classifier.\n",
    "##### May be If we tune the Hyperparameters in random forest may there is chance that random forest perform much better than Logistic Regression."
   ]
  },
  {
   "cell_type": "markdown",
   "metadata": {},
   "source": [
    "#### Based on Accuracy ,confusion Matrix and Area under the curve Logistic Regression gives better performance."
   ]
  },
  {
   "cell_type": "code",
   "execution_count": null,
   "metadata": {},
   "outputs": [],
   "source": []
  }
 ],
 "metadata": {
  "kernelspec": {
   "display_name": "Python 3",
   "language": "python",
   "name": "python3"
  },
  "language_info": {
   "codemirror_mode": {
    "name": "ipython",
    "version": 3
   },
   "file_extension": ".py",
   "mimetype": "text/x-python",
   "name": "python",
   "nbconvert_exporter": "python",
   "pygments_lexer": "ipython3",
   "version": "3.7.1"
  }
 },
 "nbformat": 4,
 "nbformat_minor": 2
}
